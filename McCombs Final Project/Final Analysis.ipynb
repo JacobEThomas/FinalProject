{
 "cells": [
  {
   "cell_type": "code",
   "execution_count": 1,
   "metadata": {},
   "outputs": [],
   "source": [
    "#Dependencies\n",
    "import pandas as pd\n",
    "import scipy.stats as stats\n",
    "import matplotlib.pyplot as plt\n",
    "import numpy as np\n",
    "import sklearn"
   ]
  },
  {
   "cell_type": "code",
   "execution_count": 2,
   "metadata": {},
   "outputs": [
    {
     "data": {
      "text/html": [
       "<div>\n",
       "<style scoped>\n",
       "    .dataframe tbody tr th:only-of-type {\n",
       "        vertical-align: middle;\n",
       "    }\n",
       "\n",
       "    .dataframe tbody tr th {\n",
       "        vertical-align: top;\n",
       "    }\n",
       "\n",
       "    .dataframe thead th {\n",
       "        text-align: right;\n",
       "    }\n",
       "</style>\n",
       "<table border=\"1\" class=\"dataframe\">\n",
       "  <thead>\n",
       "    <tr style=\"text-align: right;\">\n",
       "      <th></th>\n",
       "      <th>school_id</th>\n",
       "      <th>kcal</th>\n",
       "      <th>fat_g</th>\n",
       "      <th>carb_g</th>\n",
       "      <th>protien_g</th>\n",
       "      <th>sodium_mg</th>\n",
       "      <th>fiber_g</th>\n",
       "      <th>sugar_g</th>\n",
       "      <th>type_ms-0</th>\n",
       "      <th>Campus_Name</th>\n",
       "      <th>...</th>\n",
       "      <th>Prct_EcoDis</th>\n",
       "      <th>Greater60PrctEcoDis</th>\n",
       "      <th>Prct_Hispanic</th>\n",
       "      <th>Prct_Black</th>\n",
       "      <th>Prct_White</th>\n",
       "      <th>Prct_Asian_Other</th>\n",
       "      <th>Prct_Nonwhite</th>\n",
       "      <th>Count_Sec8</th>\n",
       "      <th>Count_HACA_HOUSING</th>\n",
       "      <th>Count_APT</th>\n",
       "    </tr>\n",
       "  </thead>\n",
       "  <tbody>\n",
       "    <tr>\n",
       "      <th>0</th>\n",
       "      <td>227901043</td>\n",
       "      <td>0.000</td>\n",
       "      <td>0.000</td>\n",
       "      <td>0.000</td>\n",
       "      <td>0.000</td>\n",
       "      <td>6.518</td>\n",
       "      <td>0.000</td>\n",
       "      <td>0.000</td>\n",
       "      <td>0</td>\n",
       "      <td>FULMORE MIDDLE</td>\n",
       "      <td>...</td>\n",
       "      <td>77.1</td>\n",
       "      <td>1</td>\n",
       "      <td>71.48</td>\n",
       "      <td>9.35</td>\n",
       "      <td>16.15</td>\n",
       "      <td>3.02</td>\n",
       "      <td>83.85</td>\n",
       "      <td>3</td>\n",
       "      <td>0</td>\n",
       "      <td>5</td>\n",
       "    </tr>\n",
       "    <tr>\n",
       "      <th>1</th>\n",
       "      <td>227901043</td>\n",
       "      <td>859.608</td>\n",
       "      <td>29.539</td>\n",
       "      <td>122.891</td>\n",
       "      <td>23.919</td>\n",
       "      <td>1542.156</td>\n",
       "      <td>5.837</td>\n",
       "      <td>3.993</td>\n",
       "      <td>0</td>\n",
       "      <td>FULMORE MIDDLE</td>\n",
       "      <td>...</td>\n",
       "      <td>77.1</td>\n",
       "      <td>1</td>\n",
       "      <td>71.48</td>\n",
       "      <td>9.35</td>\n",
       "      <td>16.15</td>\n",
       "      <td>3.02</td>\n",
       "      <td>83.85</td>\n",
       "      <td>3</td>\n",
       "      <td>0</td>\n",
       "      <td>5</td>\n",
       "    </tr>\n",
       "    <tr>\n",
       "      <th>2</th>\n",
       "      <td>227901043</td>\n",
       "      <td>116.000</td>\n",
       "      <td>0.210</td>\n",
       "      <td>28.230</td>\n",
       "      <td>0.640</td>\n",
       "      <td>98.000</td>\n",
       "      <td>0.000</td>\n",
       "      <td>25.950</td>\n",
       "      <td>0</td>\n",
       "      <td>FULMORE MIDDLE</td>\n",
       "      <td>...</td>\n",
       "      <td>77.1</td>\n",
       "      <td>1</td>\n",
       "      <td>71.48</td>\n",
       "      <td>9.35</td>\n",
       "      <td>16.15</td>\n",
       "      <td>3.02</td>\n",
       "      <td>83.85</td>\n",
       "      <td>3</td>\n",
       "      <td>0</td>\n",
       "      <td>5</td>\n",
       "    </tr>\n",
       "    <tr>\n",
       "      <th>3</th>\n",
       "      <td>227901043</td>\n",
       "      <td>12.500</td>\n",
       "      <td>0.200</td>\n",
       "      <td>1.750</td>\n",
       "      <td>0.625</td>\n",
       "      <td>200.000</td>\n",
       "      <td>0.000</td>\n",
       "      <td>0.000</td>\n",
       "      <td>0</td>\n",
       "      <td>FULMORE MIDDLE</td>\n",
       "      <td>...</td>\n",
       "      <td>77.1</td>\n",
       "      <td>1</td>\n",
       "      <td>71.48</td>\n",
       "      <td>9.35</td>\n",
       "      <td>16.15</td>\n",
       "      <td>3.02</td>\n",
       "      <td>83.85</td>\n",
       "      <td>3</td>\n",
       "      <td>0</td>\n",
       "      <td>5</td>\n",
       "    </tr>\n",
       "    <tr>\n",
       "      <th>4</th>\n",
       "      <td>227901043</td>\n",
       "      <td>261.512</td>\n",
       "      <td>9.071</td>\n",
       "      <td>31.476</td>\n",
       "      <td>12.818</td>\n",
       "      <td>520.129</td>\n",
       "      <td>1.565</td>\n",
       "      <td>5.868</td>\n",
       "      <td>0</td>\n",
       "      <td>FULMORE MIDDLE</td>\n",
       "      <td>...</td>\n",
       "      <td>77.1</td>\n",
       "      <td>1</td>\n",
       "      <td>71.48</td>\n",
       "      <td>9.35</td>\n",
       "      <td>16.15</td>\n",
       "      <td>3.02</td>\n",
       "      <td>83.85</td>\n",
       "      <td>3</td>\n",
       "      <td>0</td>\n",
       "      <td>5</td>\n",
       "    </tr>\n",
       "  </tbody>\n",
       "</table>\n",
       "<p>5 rows × 28 columns</p>\n",
       "</div>"
      ],
      "text/plain": [
       "   school_id     kcal   fat_g   carb_g  protien_g  sodium_mg  fiber_g  \\\n",
       "0  227901043    0.000   0.000    0.000      0.000      6.518    0.000   \n",
       "1  227901043  859.608  29.539  122.891     23.919   1542.156    5.837   \n",
       "2  227901043  116.000   0.210   28.230      0.640     98.000    0.000   \n",
       "3  227901043   12.500   0.200    1.750      0.625    200.000    0.000   \n",
       "4  227901043  261.512   9.071   31.476     12.818    520.129    1.565   \n",
       "\n",
       "   sugar_g  type_ms-0     Campus_Name  ... Prct_EcoDis  Greater60PrctEcoDis  \\\n",
       "0    0.000          0  FULMORE MIDDLE  ...        77.1                    1   \n",
       "1    3.993          0  FULMORE MIDDLE  ...        77.1                    1   \n",
       "2   25.950          0  FULMORE MIDDLE  ...        77.1                    1   \n",
       "3    0.000          0  FULMORE MIDDLE  ...        77.1                    1   \n",
       "4    5.868          0  FULMORE MIDDLE  ...        77.1                    1   \n",
       "\n",
       "   Prct_Hispanic  Prct_Black  Prct_White  Prct_Asian_Other  Prct_Nonwhite  \\\n",
       "0          71.48        9.35       16.15              3.02          83.85   \n",
       "1          71.48        9.35       16.15              3.02          83.85   \n",
       "2          71.48        9.35       16.15              3.02          83.85   \n",
       "3          71.48        9.35       16.15              3.02          83.85   \n",
       "4          71.48        9.35       16.15              3.02          83.85   \n",
       "\n",
       "   Count_Sec8  Count_HACA_HOUSING  Count_APT  \n",
       "0           3                   0          5  \n",
       "1           3                   0          5  \n",
       "2           3                   0          5  \n",
       "3           3                   0          5  \n",
       "4           3                   0          5  \n",
       "\n",
       "[5 rows x 28 columns]"
      ]
     },
     "execution_count": 2,
     "metadata": {},
     "output_type": "execute_result"
    }
   ],
   "source": [
    "#Read Ad-Level Master File\n",
    "df = pd.read_csv(\"School_Master_DropNA.csv\")\n",
    "df.head()"
   ]
  },
  {
   "cell_type": "code",
   "execution_count": 3,
   "metadata": {},
   "outputs": [
    {
     "data": {
      "text/plain": [
       "Campus_Name\n",
       "Anderson                 6694.987000\n",
       "Austin                   9916.597000\n",
       "BEDICHEK MIDDLE         47143.054000\n",
       "BURNET MIDDLE           48295.694000\n",
       "COVINGTON MIDDLE         6326.308000\n",
       "Crockett                14723.867000\n",
       "DOBIE MIDDLE            30508.263000\n",
       "FULMORE MIDDLE          23812.533000\n",
       "Garza                   19395.584083\n",
       "Johnson (LBJ)           49935.653000\n",
       "LAMAR MIDDLE             1093.860000\n",
       "Lanier                  50569.734167\n",
       "MARTIN MIDDLE            3395.483000\n",
       "MENDEZ MIDDLE           18435.104000\n",
       "MURCHISON MIDDLE        28657.194000\n",
       "McCallum                25311.081167\n",
       "O HENRY MIDDLE           5882.878000\n",
       "Reagan                 182554.290000\n",
       "SMALL MIDDLE SCHOOL     18362.917000\n",
       "Travis                 117162.935000\n",
       "WEBB MIDDLE             67447.474000\n",
       "Name: kcal, dtype: float64"
      ]
     },
     "execution_count": 3,
     "metadata": {},
     "output_type": "execute_result"
    }
   ],
   "source": [
    "#Calculate Sums for Relevant Variables\n",
    "df.groupby(\"Campus_Name\").kcal.sum()"
   ]
  },
  {
   "cell_type": "code",
   "execution_count": 4,
   "metadata": {},
   "outputs": [
    {
     "data": {
      "text/plain": [
       "Campus_Name\n",
       "Anderson                264.373000\n",
       "Austin                  291.421000\n",
       "BEDICHEK MIDDLE        1975.985000\n",
       "BURNET MIDDLE          1375.096000\n",
       "COVINGTON MIDDLE        358.074000\n",
       "Crockett                480.432000\n",
       "DOBIE MIDDLE            877.771000\n",
       "FULMORE MIDDLE          973.098000\n",
       "Garza                   876.819667\n",
       "Johnson (LBJ)          2070.684000\n",
       "LAMAR MIDDLE             27.580000\n",
       "Lanier                 2067.671500\n",
       "MARTIN MIDDLE           168.178000\n",
       "MENDEZ MIDDLE           664.924000\n",
       "MURCHISON MIDDLE        751.841000\n",
       "McCallum               1367.339500\n",
       "O HENRY MIDDLE          192.477000\n",
       "Reagan                 4038.961000\n",
       "SMALL MIDDLE SCHOOL     412.056000\n",
       "Travis                 3520.549000\n",
       "WEBB MIDDLE            3079.232000\n",
       "Name: fat_g, dtype: float64"
      ]
     },
     "execution_count": 4,
     "metadata": {},
     "output_type": "execute_result"
    }
   ],
   "source": [
    "df.groupby(\"Campus_Name\").fat_g.sum()"
   ]
  },
  {
   "cell_type": "code",
   "execution_count": 5,
   "metadata": {},
   "outputs": [
    {
     "data": {
      "text/plain": [
       "Campus_Name\n",
       "Anderson                 273.453000\n",
       "Austin                   957.772000\n",
       "BEDICHEK MIDDLE         2154.624000\n",
       "BURNET MIDDLE           5568.327000\n",
       "COVINGTON MIDDLE         159.045000\n",
       "Crockett                1228.255000\n",
       "DOBIE MIDDLE            3657.681000\n",
       "FULMORE MIDDLE          1096.127000\n",
       "Garza                   1013.194750\n",
       "Johnson (LBJ)           4046.987500\n",
       "LAMAR MIDDLE              24.885000\n",
       "Lanier                  4144.134833\n",
       "MARTIN MIDDLE            338.812000\n",
       "MENDEZ MIDDLE           1948.844000\n",
       "MURCHISON MIDDLE        4378.845000\n",
       "McCallum                3297.682667\n",
       "O HENRY MIDDLE           394.409000\n",
       "Reagan                 26880.916000\n",
       "SMALL MIDDLE SCHOOL     2907.140000\n",
       "Travis                 13898.690000\n",
       "WEBB MIDDLE             6321.918000\n",
       "Name: sugar_g, dtype: float64"
      ]
     },
     "execution_count": 5,
     "metadata": {},
     "output_type": "execute_result"
    }
   ],
   "source": [
    "df.groupby(\"Campus_Name\").sugar_g.sum()"
   ]
  },
  {
   "cell_type": "code",
   "execution_count": 6,
   "metadata": {},
   "outputs": [
    {
     "data": {
      "text/plain": [
       "Campus_Name\n",
       "Anderson                13328.932000\n",
       "Austin                  15937.989000\n",
       "BEDICHEK MIDDLE         92857.144000\n",
       "BURNET MIDDLE           59119.796000\n",
       "COVINGTON MIDDLE        11386.254000\n",
       "Crockett                24849.954500\n",
       "DOBIE MIDDLE            32958.942000\n",
       "FULMORE MIDDLE          48688.754000\n",
       "Garza                   30470.065667\n",
       "Johnson (LBJ)          103370.212000\n",
       "LAMAR MIDDLE             4230.877000\n",
       "Lanier                  82793.297167\n",
       "MARTIN MIDDLE            2692.662000\n",
       "MENDEZ MIDDLE           19873.716000\n",
       "MURCHISON MIDDLE        18088.660000\n",
       "McCallum                26096.695167\n",
       "O HENRY MIDDLE          11278.514000\n",
       "Reagan                 221879.766500\n",
       "SMALL MIDDLE SCHOOL     17997.194000\n",
       "Travis                 147979.168000\n",
       "WEBB MIDDLE             74117.209000\n",
       "Name: sodium_mg, dtype: float64"
      ]
     },
     "execution_count": 6,
     "metadata": {},
     "output_type": "execute_result"
    }
   ],
   "source": [
    "df.groupby(\"Campus_Name\").sodium_mg.sum()"
   ]
  },
  {
   "cell_type": "code",
   "execution_count": 7,
   "metadata": {},
   "outputs": [
    {
     "data": {
      "text/html": [
       "<div>\n",
       "<style scoped>\n",
       "    .dataframe tbody tr th:only-of-type {\n",
       "        vertical-align: middle;\n",
       "    }\n",
       "\n",
       "    .dataframe tbody tr th {\n",
       "        vertical-align: top;\n",
       "    }\n",
       "\n",
       "    .dataframe thead th {\n",
       "        text-align: right;\n",
       "    }\n",
       "</style>\n",
       "<table border=\"1\" class=\"dataframe\">\n",
       "  <thead>\n",
       "    <tr style=\"text-align: right;\">\n",
       "      <th></th>\n",
       "      <th>Campus_Name</th>\n",
       "      <th>school_id</th>\n",
       "      <th>sum_kcal</th>\n",
       "      <th>sum_sugar</th>\n",
       "      <th>sum_sodium</th>\n",
       "      <th>sum_fat</th>\n",
       "      <th>mean_kcal</th>\n",
       "      <th>mean_sodium_mg</th>\n",
       "      <th>mean_sugar_mg</th>\n",
       "      <th>Students</th>\n",
       "      <th>...</th>\n",
       "      <th>Prct_Hispanic</th>\n",
       "      <th>Prct_Black</th>\n",
       "      <th>Prct_White</th>\n",
       "      <th>Prct_Asian_Other</th>\n",
       "      <th>Prct_Nonwhite</th>\n",
       "      <th>Count_Sec8</th>\n",
       "      <th>Count_HACA_HOUSING</th>\n",
       "      <th>Count_APT</th>\n",
       "      <th>Rank_TotAds</th>\n",
       "      <th>Rank_Prct_EcoDis</th>\n",
       "    </tr>\n",
       "  </thead>\n",
       "  <tbody>\n",
       "    <tr>\n",
       "      <th>0</th>\n",
       "      <td>Anderson</td>\n",
       "      <td>300000002</td>\n",
       "      <td>6694.99</td>\n",
       "      <td>273.45</td>\n",
       "      <td>13328.93</td>\n",
       "      <td>264.37</td>\n",
       "      <td>418.44</td>\n",
       "      <td>833.06</td>\n",
       "      <td>17.09</td>\n",
       "      <td>1997</td>\n",
       "      <td>...</td>\n",
       "      <td>27.28</td>\n",
       "      <td>7.84</td>\n",
       "      <td>55.99</td>\n",
       "      <td>8.89</td>\n",
       "      <td>44.01</td>\n",
       "      <td>0</td>\n",
       "      <td>0</td>\n",
       "      <td>2</td>\n",
       "      <td>19</td>\n",
       "      <td>21</td>\n",
       "    </tr>\n",
       "    <tr>\n",
       "      <th>1</th>\n",
       "      <td>Austin</td>\n",
       "      <td>300000004</td>\n",
       "      <td>9916.60</td>\n",
       "      <td>957.77</td>\n",
       "      <td>15937.98</td>\n",
       "      <td>291.42</td>\n",
       "      <td>260.96</td>\n",
       "      <td>419.42</td>\n",
       "      <td>25.20</td>\n",
       "      <td>2,296</td>\n",
       "      <td>...</td>\n",
       "      <td>44.97</td>\n",
       "      <td>7.17</td>\n",
       "      <td>43.44</td>\n",
       "      <td>4.41</td>\n",
       "      <td>56.56</td>\n",
       "      <td>0</td>\n",
       "      <td>0</td>\n",
       "      <td>2</td>\n",
       "      <td>14</td>\n",
       "      <td>18</td>\n",
       "    </tr>\n",
       "    <tr>\n",
       "      <th>2</th>\n",
       "      <td>BEDICHEK MIDDLE</td>\n",
       "      <td>227901054</td>\n",
       "      <td>47143.05</td>\n",
       "      <td>2154.62</td>\n",
       "      <td>92857.14</td>\n",
       "      <td>1975.98</td>\n",
       "      <td>476.19</td>\n",
       "      <td>937.95</td>\n",
       "      <td>21.76</td>\n",
       "      <td>1,021</td>\n",
       "      <td>...</td>\n",
       "      <td>80.88</td>\n",
       "      <td>8.36</td>\n",
       "      <td>9.51</td>\n",
       "      <td>1.25</td>\n",
       "      <td>90.49</td>\n",
       "      <td>33</td>\n",
       "      <td>0</td>\n",
       "      <td>5</td>\n",
       "      <td>9</td>\n",
       "      <td>10</td>\n",
       "    </tr>\n",
       "    <tr>\n",
       "      <th>3</th>\n",
       "      <td>BURNET MIDDLE</td>\n",
       "      <td>227901046</td>\n",
       "      <td>48295.69</td>\n",
       "      <td>5568.32</td>\n",
       "      <td>59119.79</td>\n",
       "      <td>1375.09</td>\n",
       "      <td>427.40</td>\n",
       "      <td>523.19</td>\n",
       "      <td>49.28</td>\n",
       "      <td>960</td>\n",
       "      <td>...</td>\n",
       "      <td>78.09</td>\n",
       "      <td>13.79</td>\n",
       "      <td>5.57</td>\n",
       "      <td>2.55</td>\n",
       "      <td>94.43</td>\n",
       "      <td>13</td>\n",
       "      <td>0</td>\n",
       "      <td>3</td>\n",
       "      <td>4</td>\n",
       "      <td>5</td>\n",
       "    </tr>\n",
       "    <tr>\n",
       "      <th>4</th>\n",
       "      <td>COVINGTON MIDDLE</td>\n",
       "      <td>227901057</td>\n",
       "      <td>6326.31</td>\n",
       "      <td>159.04</td>\n",
       "      <td>11386.25</td>\n",
       "      <td>358.07</td>\n",
       "      <td>421.75</td>\n",
       "      <td>759.08</td>\n",
       "      <td>10.60</td>\n",
       "      <td>951</td>\n",
       "      <td>...</td>\n",
       "      <td>61.03</td>\n",
       "      <td>9.64</td>\n",
       "      <td>25.10</td>\n",
       "      <td>4.23</td>\n",
       "      <td>74.90</td>\n",
       "      <td>7</td>\n",
       "      <td>0</td>\n",
       "      <td>2</td>\n",
       "      <td>5</td>\n",
       "      <td>12</td>\n",
       "    </tr>\n",
       "  </tbody>\n",
       "</table>\n",
       "<p>5 rows × 29 columns</p>\n",
       "</div>"
      ],
      "text/plain": [
       "        Campus_Name  school_id  sum_kcal  sum_sugar  sum_sodium  sum_fat  \\\n",
       "0          Anderson  300000002   6694.99     273.45    13328.93   264.37   \n",
       "1            Austin  300000004   9916.60     957.77    15937.98   291.42   \n",
       "2   BEDICHEK MIDDLE  227901054  47143.05    2154.62    92857.14  1975.98   \n",
       "3     BURNET MIDDLE  227901046  48295.69    5568.32    59119.79  1375.09   \n",
       "4  COVINGTON MIDDLE  227901057   6326.31     159.04    11386.25   358.07   \n",
       "\n",
       "   mean_kcal  mean_sodium_mg  mean_sugar_mg Students  ...  Prct_Hispanic  \\\n",
       "0     418.44          833.06          17.09     1997  ...          27.28   \n",
       "1     260.96          419.42          25.20    2,296  ...          44.97   \n",
       "2     476.19          937.95          21.76    1,021  ...          80.88   \n",
       "3     427.40          523.19          49.28      960  ...          78.09   \n",
       "4     421.75          759.08          10.60      951  ...          61.03   \n",
       "\n",
       "   Prct_Black  Prct_White  Prct_Asian_Other  Prct_Nonwhite  Count_Sec8  \\\n",
       "0        7.84       55.99              8.89          44.01           0   \n",
       "1        7.17       43.44              4.41          56.56           0   \n",
       "2        8.36        9.51              1.25          90.49          33   \n",
       "3       13.79        5.57              2.55          94.43          13   \n",
       "4        9.64       25.10              4.23          74.90           7   \n",
       "\n",
       "   Count_HACA_HOUSING  Count_APT  Rank_TotAds  Rank_Prct_EcoDis  \n",
       "0                   0          2           19                21  \n",
       "1                   0          2           14                18  \n",
       "2                   0          5            9                10  \n",
       "3                   0          3            4                 5  \n",
       "4                   0          2            5                12  \n",
       "\n",
       "[5 rows x 29 columns]"
      ]
     },
     "execution_count": 7,
     "metadata": {},
     "output_type": "execute_result"
    }
   ],
   "source": [
    "#After Manually Appending School-Level Master File with Above Sums, Import File\n",
    "df_lvl = pd.read_csv('School_Meta_DNA_Macro.csv')\n",
    "df_lvl.head()"
   ]
  },
  {
   "cell_type": "code",
   "execution_count": 8,
   "metadata": {},
   "outputs": [],
   "source": [
    "#Push Variables to Arrays For SciPy Testing\n",
    "sum_kcal = df_lvl[\"sum_kcal\"].tolist()\n",
    "\n",
    "sum_fat = df_lvl[\"sum_fat\"].tolist()\n",
    "\n",
    "sum_sodium_mg = df_lvl[\"sum_sodium\"].tolist()\n",
    "\n",
    "sum_sugar_g = df_lvl[\"sum_sugar\"].tolist()\n",
    "\n",
    "Prct_EcoDis = df_lvl[\"Prct_EcoDis\"].tolist()\n",
    "\n",
    "total_ads = df_lvl[\"TotalAds\"].tolist()\n",
    "\n",
    "obese = df_lvl[\"Sum_O\"].tolist()"
   ]
  },
  {
   "cell_type": "code",
   "execution_count": 9,
   "metadata": {},
   "outputs": [],
   "source": [
    "#After Manually Performing Low-High %EDS Split in Excel, Past in Arrays\n",
    "totalads_LowEcoDis = [80,\n",
    "133,\n",
    "125,\n",
    "124,\n",
    "150,\n",
    "117,\n",
    "58,\n",
    "44,\n",
    "]\n",
    "\n",
    "totalads_HighEcoDis = [173,\n",
    "293,\n",
    "234,\n",
    "88,\n",
    "143,\n",
    "655,\n",
    "169,\n",
    "228,\n",
    "213,\n",
    "175,\n",
    "520,\n",
    "332,\n",
    "172,\n",
    "]"
   ]
  },
  {
   "cell_type": "code",
   "execution_count": 10,
   "metadata": {},
   "outputs": [],
   "source": [
    "sum_kcal_LowEcoDis = [6694.99,\n",
    "9916.6,\n",
    "19395.58,\n",
    "1093.86,\n",
    "25311.08,\n",
    "28657.19,\n",
    "5882.87,\n",
    "18362.91,\n",
    "]\n",
    "\n",
    "sum_kcal_HighEcoDis = [47143.05,\n",
    "48295.69,\n",
    "6326.31,\n",
    "14723.87,\n",
    "30508.26,\n",
    "23812.53,\n",
    "49935.65,\n",
    "50569.73,\n",
    "3395.48,\n",
    "18435.1,\n",
    "182554.29,\n",
    "117162.93,\n",
    "67447.47,\n",
    "]"
   ]
  },
  {
   "cell_type": "code",
   "execution_count": 11,
   "metadata": {},
   "outputs": [],
   "source": [
    "sum_fat_LowEcoDis = [264.37,\n",
    "291.42,\n",
    "876.8,\n",
    "27.58,\n",
    "1367.33,\n",
    "751.84,\n",
    "192.47,\n",
    "412.05,\n",
    "]\n",
    "\n",
    "sum_fat_HighEcoDis = [1975.98,\n",
    "1375.09,\n",
    "358.07,\n",
    "480.43,\n",
    "877.77,\n",
    "973.09,\n",
    "2070.68,\n",
    "2067.67,\n",
    "168.17,\n",
    "664.92,\n",
    "4038.96,\n",
    "3520.54,\n",
    "3079.23,\n",
    "]"
   ]
  },
  {
   "cell_type": "code",
   "execution_count": 12,
   "metadata": {},
   "outputs": [],
   "source": [
    "sum_sugar_LowEcoDis = [273.45,\n",
    "957.77,\n",
    "1013.19,\n",
    "24.88,\n",
    "3297.68,\n",
    "4378.84,\n",
    "394.4,\n",
    "2907.14,\n",
    "]\n",
    "\n",
    "sum_sugar_HighEcoDis = [2154.62,\n",
    "5568.32,\n",
    "159.04,\n",
    "1228.25,\n",
    "3657.68,\n",
    "1096.12,\n",
    "4046.98,\n",
    "4144.13,\n",
    "338.81,\n",
    "1948.84,\n",
    "26880.91,\n",
    "13898.69,\n",
    "6321.91,\n",
    "]"
   ]
  },
  {
   "cell_type": "code",
   "execution_count": 13,
   "metadata": {},
   "outputs": [],
   "source": [
    "sum_sodium_LowEcoDis = [13328.93,\n",
    "15937.98,\n",
    "30470.06,\n",
    "4230.87,\n",
    "26096.69,\n",
    "18088.66,\n",
    "11278.51,\n",
    "17997.19,\n",
    "\n",
    "]\n",
    "\n",
    "sum_sodium_HighEcoDis = [92857.14,\n",
    "59119.79,\n",
    "11386.25,\n",
    "24849.95,\n",
    "32958.94,\n",
    "48688.75,\n",
    "103370.21,\n",
    "82793.29,\n",
    "2692.66,\n",
    "19873.71,\n",
    "221879.76,\n",
    "147979.16,\n",
    "74117.2,\n",
    "]"
   ]
  },
  {
   "cell_type": "code",
   "execution_count": null,
   "metadata": {},
   "outputs": [],
   "source": []
  },
  {
   "cell_type": "code",
   "execution_count": 14,
   "metadata": {},
   "outputs": [
    {
     "data": {
      "text/plain": [
       "(0.8555977940559387, 0.005311982240527868)"
      ]
     },
     "execution_count": 14,
     "metadata": {},
     "output_type": "execute_result"
    }
   ],
   "source": [
    "#First, Coorelationm Tests for Significance\n",
    "stats.shapiro(Prct_EcoDis)"
   ]
  },
  {
   "cell_type": "code",
   "execution_count": 15,
   "metadata": {},
   "outputs": [
    {
     "data": {
      "text/plain": [
       "SpearmanrResult(correlation=0.8337662337662338, pvalue=2.6652061559546094e-06)"
      ]
     },
     "execution_count": 15,
     "metadata": {},
     "output_type": "execute_result"
    }
   ],
   "source": [
    "stats.spearmanr(Prct_EcoDis, obese)"
   ]
  },
  {
   "cell_type": "code",
   "execution_count": 16,
   "metadata": {},
   "outputs": [
    {
     "data": {
      "text/plain": [
       "SpearmanrResult(correlation=0.6623376623376622, pvalue=0.0010706809556016237)"
      ]
     },
     "execution_count": 16,
     "metadata": {},
     "output_type": "execute_result"
    }
   ],
   "source": [
    "stats.spearmanr(Prct_EcoDis, total_ads)"
   ]
  },
  {
   "cell_type": "code",
   "execution_count": 17,
   "metadata": {},
   "outputs": [
    {
     "data": {
      "text/plain": [
       "SpearmanrResult(correlation=0.47922077922077916, pvalue=0.027944448062011996)"
      ]
     },
     "execution_count": 17,
     "metadata": {},
     "output_type": "execute_result"
    }
   ],
   "source": [
    "stats.spearmanr(Prct_EcoDis, sum_kcal)"
   ]
  },
  {
   "cell_type": "code",
   "execution_count": 18,
   "metadata": {},
   "outputs": [
    {
     "data": {
      "text/plain": [
       "SpearmanrResult(correlation=0.4896103896103896, pvalue=0.024270522021007414)"
      ]
     },
     "execution_count": 18,
     "metadata": {},
     "output_type": "execute_result"
    }
   ],
   "source": [
    "stats.spearmanr(Prct_EcoDis, sum_fat)"
   ]
  },
  {
   "cell_type": "code",
   "execution_count": 19,
   "metadata": {},
   "outputs": [
    {
     "data": {
      "text/plain": [
       "SpearmanrResult(correlation=0.43376623376623374, pvalue=0.04946747938154749)"
      ]
     },
     "execution_count": 19,
     "metadata": {},
     "output_type": "execute_result"
    }
   ],
   "source": [
    "stats.spearmanr(Prct_EcoDis, sum_sugar_g)"
   ]
  },
  {
   "cell_type": "code",
   "execution_count": 20,
   "metadata": {},
   "outputs": [
    {
     "data": {
      "text/plain": [
       "SpearmanrResult(correlation=0.4727272727272727, pvalue=0.030455231601954364)"
      ]
     },
     "execution_count": 20,
     "metadata": {},
     "output_type": "execute_result"
    }
   ],
   "source": [
    "stats.spearmanr(Prct_EcoDis, sum_sodium_mg)"
   ]
  },
  {
   "cell_type": "code",
   "execution_count": 21,
   "metadata": {},
   "outputs": [
    {
     "data": {
      "image/png": "[encoded data removed]",
      "text/plain": [
       "<Figure size 432x288 with 1 Axes>"
      ]
     },
     "metadata": {
      "needs_background": "light"
     },
     "output_type": "display_data"
    }
   ],
   "source": [
    "#Visualize Coorelations\n",
    "#Total Ads\n",
    "fit = np.polyfit(total_ads, Prct_EcoDis, 1)\n",
    "fit_fn = np.poly1d(fit) \n",
    "plt.plot(total_ads, Prct_EcoDis, 'ro', total_ads, fit_fn(total_ads))\n",
    "plt.title('Spearman rho Fit')\n",
    "plt.xlabel('Total Ads')\n",
    "plt.ylabel('% Econ. Disadvantaged')\n",
    "plt.show()"
   ]
  },
  {
   "cell_type": "code",
   "execution_count": 22,
   "metadata": {},
   "outputs": [
    {
     "data": {
      "image/png": "[encoded data removed]",
      "text/plain": [
       "<Figure size 432x288 with 1 Axes>"
      ]
     },
     "metadata": {
      "needs_background": "light"
     },
     "output_type": "display_data"
    }
   ],
   "source": [
    "#Calories\n",
    "fit1 = np.polyfit(sum_kcal, Prct_EcoDis, 1)\n",
    "fit_fn1 = np.poly1d(fit1) \n",
    "plt.plot(sum_kcal, Prct_EcoDis, 'ro', sum_kcal, fit_fn1(sum_kcal))\n",
    "plt.title('Spearman rho Fit')\n",
    "plt.xlabel('Calories')\n",
    "plt.ylabel('% Econ. Disadvantaged')\n",
    "plt.show()"
   ]
  },
  {
   "cell_type": "code",
   "execution_count": 23,
   "metadata": {},
   "outputs": [
    {
     "data": {
      "image/png": "[encoded data removed]",
      "text/plain": [
       "<Figure size 432x288 with 1 Axes>"
      ]
     },
     "metadata": {
      "needs_background": "light"
     },
     "output_type": "display_data"
    }
   ],
   "source": [
    "#Fat\n",
    "fit2 = np.polyfit(sum_fat, Prct_EcoDis, 1)\n",
    "fit_fn2 = np.poly1d(fit2) \n",
    "plt.plot(sum_fat, Prct_EcoDis, 'ro', sum_fat, fit_fn2(sum_fat))\n",
    "plt.title('Spearman rho Fit')\n",
    "plt.xlabel('Grams of Fat')\n",
    "plt.ylabel('% Econ. Disadvantaged')\n",
    "plt.show()"
   ]
  },
  {
   "cell_type": "code",
   "execution_count": 24,
   "metadata": {},
   "outputs": [
    {
     "data": {
      "image/png": "[encoded data removed]",
      "text/plain": [
       "<Figure size 432x288 with 1 Axes>"
      ]
     },
     "metadata": {
      "needs_background": "light"
     },
     "output_type": "display_data"
    }
   ],
   "source": [
    "#Sugar\n",
    "fit3 = np.polyfit(sum_sugar_g, Prct_EcoDis, 1)\n",
    "fit_fn3 = np.poly1d(fit3) \n",
    "plt.plot(sum_sugar_g, Prct_EcoDis, 'ro', sum_sugar_g, fit_fn3(sum_sugar_g))\n",
    "plt.title('Spearman rho Fit')\n",
    "plt.xlabel('Grams of Sugar')\n",
    "plt.ylabel('% Econ. Disadvantaged')\n",
    "plt.show()"
   ]
  },
  {
   "cell_type": "code",
   "execution_count": 25,
   "metadata": {},
   "outputs": [
    {
     "data": {
      "image/png": "[encoded data removed]",
      "text/plain": [
       "<Figure size 432x288 with 1 Axes>"
      ]
     },
     "metadata": {
      "needs_background": "light"
     },
     "output_type": "display_data"
    }
   ],
   "source": [
    "#Sodium\n",
    "fit4 = np.polyfit(sum_sodium_mg, Prct_EcoDis, 1)\n",
    "fit_fn4 = np.poly1d(fit4) \n",
    "plt.plot(sum_sodium_mg, Prct_EcoDis, 'ro', sum_sodium_mg, fit_fn4(sum_sodium_mg))\n",
    "plt.title('Spearman rho Fit')\n",
    "plt.xlabel('Mg of Sodium')\n",
    "plt.ylabel('% Econ. Disadvantaged')\n",
    "plt.show()"
   ]
  },
  {
   "cell_type": "code",
   "execution_count": 26,
   "metadata": {},
   "outputs": [
    {
     "data": {
      "text/plain": [
       "(0.8078746199607849, 0.008467649109661579)"
      ]
     },
     "execution_count": 26,
     "metadata": {},
     "output_type": "execute_result"
    }
   ],
   "source": [
    "#Next, Difference in Means Text for Significancce\n",
    "#Totalads\n",
    "stats.shapiro(totalads_HighEcoDis)"
   ]
  },
  {
   "cell_type": "code",
   "execution_count": 27,
   "metadata": {},
   "outputs": [
    {
     "data": {
      "text/plain": [
       "MannwhitneyuResult(statistic=6.0, pvalue=0.0004918614474256409)"
      ]
     },
     "execution_count": 27,
     "metadata": {},
     "output_type": "execute_result"
    }
   ],
   "source": [
    "stats.mannwhitneyu(totalads_LowEcoDis, totalads_HighEcoDis)"
   ]
  },
  {
   "cell_type": "code",
   "execution_count": 28,
   "metadata": {},
   "outputs": [
    {
     "data": {
      "text/plain": [
       "DescribeResult(nobs=8, minmax=(44, 150), mean=103.875, variance=1465.5535714285713, skewness=-0.49576589850496083, kurtosis=-1.2330682794552092)"
      ]
     },
     "execution_count": 28,
     "metadata": {},
     "output_type": "execute_result"
    }
   ],
   "source": [
    "stats.describe(totalads_LowEcoDis)"
   ]
  },
  {
   "cell_type": "code",
   "execution_count": 29,
   "metadata": {},
   "outputs": [
    {
     "data": {
      "text/plain": [
       "DescribeResult(nobs=13, minmax=(88, 655), mean=261.15384615384613, variance=25656.807692307688, skewness=1.4562253385985675, kurtosis=1.1043978154499632)"
      ]
     },
     "execution_count": 29,
     "metadata": {},
     "output_type": "execute_result"
    }
   ],
   "source": [
    "stats.describe(totalads_HighEcoDis)"
   ]
  },
  {
   "cell_type": "code",
   "execution_count": 30,
   "metadata": {},
   "outputs": [
    {
     "data": {
      "text/plain": [
       "(0.9413648843765259, 0.6245577335357666)"
      ]
     },
     "execution_count": 30,
     "metadata": {},
     "output_type": "execute_result"
    }
   ],
   "source": [
    "#KCal\n",
    "stats.shapiro(sum_kcal_LowEcoDis)"
   ]
  },
  {
   "cell_type": "code",
   "execution_count": 31,
   "metadata": {},
   "outputs": [
    {
     "data": {
      "text/plain": [
       "(0.8057581186294556, 0.007985619828104973)"
      ]
     },
     "execution_count": 31,
     "metadata": {},
     "output_type": "execute_result"
    }
   ],
   "source": [
    "stats.shapiro(sum_kcal_HighEcoDis)"
   ]
  },
  {
   "cell_type": "code",
   "execution_count": 32,
   "metadata": {},
   "outputs": [
    {
     "data": {
      "text/plain": [
       "MannwhitneyuResult(statistic=22.0, pvalue=0.016322999466619314)"
      ]
     },
     "execution_count": 32,
     "metadata": {},
     "output_type": "execute_result"
    }
   ],
   "source": [
    "stats.mannwhitneyu(sum_kcal_LowEcoDis, sum_kcal_HighEcoDis)"
   ]
  },
  {
   "cell_type": "code",
   "execution_count": 33,
   "metadata": {},
   "outputs": [
    {
     "data": {
      "text/plain": [
       "DescribeResult(nobs=8, minmax=(1093.86, 28657.19), mean=14414.385, variance=98862981.86254287, skewness=0.12937968800380079, kurtosis=-1.3821904298747547)"
      ]
     },
     "execution_count": 33,
     "metadata": {},
     "output_type": "execute_result"
    }
   ],
   "source": [
    "stats.describe(sum_kcal_LowEcoDis)"
   ]
  },
  {
   "cell_type": "code",
   "execution_count": 34,
   "metadata": {},
   "outputs": [
    {
     "data": {
      "text/plain": [
       "DescribeResult(nobs=13, minmax=(3395.48, 182554.29), mean=50793.104615384604, variance=2481246983.635294, skewness=1.6008920125967658, kurtosis=1.8878228662381389)"
      ]
     },
     "execution_count": 34,
     "metadata": {},
     "output_type": "execute_result"
    }
   ],
   "source": [
    "stats.describe(sum_kcal_HighEcoDis)"
   ]
  },
  {
   "cell_type": "code",
   "execution_count": 35,
   "metadata": {},
   "outputs": [
    {
     "data": {
      "text/plain": [
       "(0.909132182598114, 0.34799304604530334)"
      ]
     },
     "execution_count": 35,
     "metadata": {},
     "output_type": "execute_result"
    }
   ],
   "source": [
    "#Fat\n",
    "stats.shapiro(sum_fat_LowEcoDis)"
   ]
  },
  {
   "cell_type": "code",
   "execution_count": 36,
   "metadata": {},
   "outputs": [
    {
     "data": {
      "text/plain": [
       "(0.9166656136512756, 0.22608600556850433)"
      ]
     },
     "execution_count": 36,
     "metadata": {},
     "output_type": "execute_result"
    }
   ],
   "source": [
    "stats.shapiro(sum_fat_HighEcoDis)"
   ]
  },
  {
   "cell_type": "code",
   "execution_count": 37,
   "metadata": {},
   "outputs": [
    {
     "data": {
      "text/plain": [
       "Ttest_indResult(statistic=-2.4527315108723795, pvalue=0.024011003127725764)"
      ]
     },
     "execution_count": 37,
     "metadata": {},
     "output_type": "execute_result"
    }
   ],
   "source": [
    "stats.ttest_ind(sum_fat_LowEcoDis, sum_fat_HighEcoDis)"
   ]
  },
  {
   "cell_type": "code",
   "execution_count": 38,
   "metadata": {},
   "outputs": [
    {
     "data": {
      "text/plain": [
       "DescribeResult(nobs=13, minmax=(168.17, 4038.96), mean=1665.4307692307693, variance=1586386.441641026, skewness=0.5921830888136683, kurtosis=-0.8769965917082003)"
      ]
     },
     "execution_count": 38,
     "metadata": {},
     "output_type": "execute_result"
    }
   ],
   "source": [
    "stats.describe(sum_fat_HighEcoDis)"
   ]
  },
  {
   "cell_type": "code",
   "execution_count": 39,
   "metadata": {},
   "outputs": [
    {
     "data": {
      "text/plain": [
       "DescribeResult(nobs=8, minmax=(27.58, 1367.33), mean=522.9825000000001, variance=196850.7235928571, skewness=0.820915907251157, kurtosis=-0.44532574128675506)"
      ]
     },
     "execution_count": 39,
     "metadata": {},
     "output_type": "execute_result"
    }
   ],
   "source": [
    "stats.describe(sum_fat_LowEcoDis)"
   ]
  },
  {
   "cell_type": "code",
   "execution_count": 40,
   "metadata": {},
   "outputs": [
    {
     "data": {
      "text/plain": [
       "(0.8684771060943604, 0.14564107358455658)"
      ]
     },
     "execution_count": 40,
     "metadata": {},
     "output_type": "execute_result"
    }
   ],
   "source": [
    "#Sugar\n",
    "stats.shapiro(sum_sugar_LowEcoDis)"
   ]
  },
  {
   "cell_type": "code",
   "execution_count": 41,
   "metadata": {},
   "outputs": [
    {
     "data": {
      "text/plain": [
       "(0.687221109867096, 0.00041466488619334996)"
      ]
     },
     "execution_count": 41,
     "metadata": {},
     "output_type": "execute_result"
    }
   ],
   "source": [
    "stats.shapiro(sum_sugar_HighEcoDis)"
   ]
  },
  {
   "cell_type": "code",
   "execution_count": 42,
   "metadata": {},
   "outputs": [
    {
     "data": {
      "text/plain": [
       "MannwhitneyuResult(statistic=28.0, pvalue=0.0443883668565458)"
      ]
     },
     "execution_count": 42,
     "metadata": {},
     "output_type": "execute_result"
    }
   ],
   "source": [
    "stats.mannwhitneyu(sum_sugar_LowEcoDis, sum_sugar_HighEcoDis)"
   ]
  },
  {
   "cell_type": "code",
   "execution_count": 43,
   "metadata": {},
   "outputs": [
    {
     "data": {
      "text/plain": [
       "DescribeResult(nobs=8, minmax=(24.88, 4378.84), mean=1655.9187500000003, variance=2676954.782955357, skewness=0.5919992684194657, kurtosis=-1.214751266207796)"
      ]
     },
     "execution_count": 43,
     "metadata": {},
     "output_type": "execute_result"
    }
   ],
   "source": [
    "stats.describe(sum_sugar_LowEcoDis)"
   ]
  },
  {
   "cell_type": "code",
   "execution_count": 44,
   "metadata": {},
   "outputs": [
    {
     "data": {
      "text/plain": [
       "DescribeResult(nobs=13, minmax=(159.04, 26880.91), mean=5495.715384615385, variance=54359426.03882692, skewness=2.1269863323920184, kurtosis=3.619281895636469)"
      ]
     },
     "execution_count": 44,
     "metadata": {},
     "output_type": "execute_result"
    }
   ],
   "source": [
    "stats.describe(sum_sugar_HighEcoDis)"
   ]
  },
  {
   "cell_type": "code",
   "execution_count": 45,
   "metadata": {},
   "outputs": [
    {
     "data": {
      "text/plain": [
       "(0.9712640643119812, 0.9077391028404236)"
      ]
     },
     "execution_count": 45,
     "metadata": {},
     "output_type": "execute_result"
    }
   ],
   "source": [
    "#Sodium\n",
    "stats.shapiro(sum_sodium_LowEcoDis)"
   ]
  },
  {
   "cell_type": "code",
   "execution_count": 46,
   "metadata": {},
   "outputs": [
    {
     "data": {
      "text/plain": [
       "(0.8937978744506836, 0.1099453940987587)"
      ]
     },
     "execution_count": 46,
     "metadata": {},
     "output_type": "execute_result"
    }
   ],
   "source": [
    "stats.shapiro(sum_sodium_HighEcoDis)"
   ]
  },
  {
   "cell_type": "code",
   "execution_count": 47,
   "metadata": {},
   "outputs": [
    {
     "data": {
      "text/plain": [
       "Ttest_indResult(statistic=-2.435604947631953, pvalue=0.02488715382805873)"
      ]
     },
     "execution_count": 47,
     "metadata": {},
     "output_type": "execute_result"
    }
   ],
   "source": [
    "stats.ttest_ind(sum_sodium_LowEcoDis, sum_sodium_HighEcoDis)"
   ]
  },
  {
   "cell_type": "code",
   "execution_count": 48,
   "metadata": {},
   "outputs": [
    {
     "data": {
      "text/plain": [
       "DescribeResult(nobs=13, minmax=(2692.66, 221879.76), mean=70966.67769230768, variance=3784526029.132952, skewness=1.1590469970405504, kurtosis=0.8022965121736907)"
      ]
     },
     "execution_count": 48,
     "metadata": {},
     "output_type": "execute_result"
    }
   ],
   "source": [
    "stats.describe(sum_sodium_HighEcoDis)"
   ]
  },
  {
   "cell_type": "code",
   "execution_count": 49,
   "metadata": {},
   "outputs": [
    {
     "data": {
      "text/plain": [
       "DescribeResult(nobs=8, minmax=(4230.87, 30470.06), mean=17178.611249999998, variance=68072486.88924107, skewness=0.16960040406939117, kurtosis=-0.6367582182970435)"
      ]
     },
     "execution_count": 49,
     "metadata": {},
     "output_type": "execute_result"
    }
   ],
   "source": [
    "stats.describe(sum_sodium_LowEcoDis)"
   ]
  },
  {
   "cell_type": "code",
   "execution_count": 50,
   "metadata": {},
   "outputs": [
    {
     "data": {
      "text/html": [
       "<div>\n",
       "<style scoped>\n",
       "    .dataframe tbody tr th:only-of-type {\n",
       "        vertical-align: middle;\n",
       "    }\n",
       "\n",
       "    .dataframe tbody tr th {\n",
       "        vertical-align: top;\n",
       "    }\n",
       "\n",
       "    .dataframe thead th {\n",
       "        text-align: right;\n",
       "    }\n",
       "</style>\n",
       "<table border=\"1\" class=\"dataframe\">\n",
       "  <thead>\n",
       "    <tr style=\"text-align: right;\">\n",
       "      <th></th>\n",
       "      <th>kcal</th>\n",
       "      <th>fat_g</th>\n",
       "      <th>carb_g</th>\n",
       "      <th>sodium_mg</th>\n",
       "      <th>sugar_g</th>\n",
       "    </tr>\n",
       "  </thead>\n",
       "  <tbody>\n",
       "    <tr>\n",
       "      <th>0</th>\n",
       "      <td>0.000</td>\n",
       "      <td>0.000</td>\n",
       "      <td>0.000</td>\n",
       "      <td>6.518</td>\n",
       "      <td>0.000</td>\n",
       "    </tr>\n",
       "    <tr>\n",
       "      <th>1</th>\n",
       "      <td>859.608</td>\n",
       "      <td>29.539</td>\n",
       "      <td>122.891</td>\n",
       "      <td>1542.156</td>\n",
       "      <td>3.993</td>\n",
       "    </tr>\n",
       "    <tr>\n",
       "      <th>2</th>\n",
       "      <td>116.000</td>\n",
       "      <td>0.210</td>\n",
       "      <td>28.230</td>\n",
       "      <td>98.000</td>\n",
       "      <td>25.950</td>\n",
       "    </tr>\n",
       "    <tr>\n",
       "      <th>3</th>\n",
       "      <td>12.500</td>\n",
       "      <td>0.200</td>\n",
       "      <td>1.750</td>\n",
       "      <td>200.000</td>\n",
       "      <td>0.000</td>\n",
       "    </tr>\n",
       "    <tr>\n",
       "      <th>4</th>\n",
       "      <td>261.512</td>\n",
       "      <td>9.071</td>\n",
       "      <td>31.476</td>\n",
       "      <td>520.129</td>\n",
       "      <td>5.868</td>\n",
       "    </tr>\n",
       "  </tbody>\n",
       "</table>\n",
       "</div>"
      ],
      "text/plain": [
       "      kcal   fat_g   carb_g  sodium_mg  sugar_g\n",
       "0    0.000   0.000    0.000      6.518    0.000\n",
       "1  859.608  29.539  122.891   1542.156    3.993\n",
       "2  116.000   0.210   28.230     98.000   25.950\n",
       "3   12.500   0.200    1.750    200.000    0.000\n",
       "4  261.512   9.071   31.476    520.129    5.868"
      ]
     },
     "execution_count": 50,
     "metadata": {},
     "output_type": "execute_result"
    }
   ],
   "source": [
    "#ML to predict if an add was located closest to a high or low %EDS school based on macronutrient content.\n",
    "from sklearn import tree\n",
    "df_tree = pd.read_csv(\"School_Master_trees.csv\")\n",
    "target = df_tree[\"Greater60PrctEcoDis\"]\n",
    "target_names = [0, 1]\n",
    "data = df_tree.drop(\"Greater60PrctEcoDis\", axis=1)\n",
    "feature_names = data.columns\n",
    "data.head()"
   ]
  },
  {
   "cell_type": "code",
   "execution_count": 51,
   "metadata": {},
   "outputs": [],
   "source": [
    "from sklearn.model_selection import train_test_split\n",
    "X_train, X_test, y_train, y_test = train_test_split(data, target, random_state=42)"
   ]
  },
  {
   "cell_type": "code",
   "execution_count": 52,
   "metadata": {},
   "outputs": [
    {
     "data": {
      "text/plain": [
       "0.798941798941799"
      ]
     },
     "execution_count": 52,
     "metadata": {},
     "output_type": "execute_result"
    }
   ],
   "source": [
    "clf = tree.DecisionTreeClassifier()\n",
    "clf = clf.fit(X_train, y_train)\n",
    "clf.score(X_test, y_test)"
   ]
  },
  {
   "cell_type": "code",
   "execution_count": 54,
   "metadata": {},
   "outputs": [
    {
     "data": {
      "text/plain": [
       "0.8271604938271605"
      ]
     },
     "execution_count": 54,
     "metadata": {},
     "output_type": "execute_result"
    }
   ],
   "source": [
    "from sklearn.ensemble import RandomForestClassifier\n",
    "rf = RandomForestClassifier(n_estimators=200)\n",
    "rf = rf.fit(X_train, y_train)\n",
    "rf.score(X_test, y_test)"
   ]
  },
  {
   "cell_type": "code",
   "execution_count": 55,
   "metadata": {},
   "outputs": [
    {
     "data": {
      "text/plain": [
       "[(0.21988108102544282, 'kcal'),\n",
       " (0.21631733617613322, 'sodium_mg'),\n",
       " (0.2033603931290717, 'carb_g'),\n",
       " (0.19096742429802832, 'fat_g'),\n",
       " (0.16947376537132397, 'sugar_g')]"
      ]
     },
     "execution_count": 55,
     "metadata": {},
     "output_type": "execute_result"
    }
   ],
   "source": [
    "sorted(zip(rf.feature_importances_, feature_names), reverse=True)"
   ]
  },
  {
   "cell_type": "code",
   "execution_count": null,
   "metadata": {},
   "outputs": [],
   "source": []
  }
 ],
 "metadata": {
  "kernelspec": {
   "display_name": "Python 3",
   "language": "python",
   "name": "python3"
  },
  "language_info": {
   "codemirror_mode": {
    "name": "ipython",
    "version": 3
   },
   "file_extension": ".py",
   "mimetype": "text/x-python",
   "name": "python",
   "nbconvert_exporter": "python",
   "pygments_lexer": "ipython3",
   "version": "3.7.3"
  }
 },
 "nbformat": 4,
 "nbformat_minor": 2
}
